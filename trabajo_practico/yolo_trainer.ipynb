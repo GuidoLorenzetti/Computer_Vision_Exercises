{
 "cells": [
  {
   "cell_type": "code",
   "execution_count": null,
   "metadata": {},
   "outputs": [],
   "source": [
    "import os\n",
    "\n",
    "# Define el directorio y el formato de los nuevos nombres\n",
    "directorio = 'cartas'\n",
    "nuevo_formato = '23451_guido_lorenzettibruera_{}.jpg'\n",
    "\n",
    "# Listar todos los archivos en el directorio\n",
    "archivos = os.listdir(directorio)\n",
    "\n",
    "# Filtrar solo los archivos que son imágenes (asumiendo que tienen extensión .jpg)\n",
    "imagenes = [archivo for archivo in archivos if archivo.endswith('.jpg')]\n",
    "\n",
    "# Ordenar las imágenes (opcional, por si quieres asegurar un orden específico)\n",
    "imagenes.sort()\n",
    "\n",
    "# Renombrar las imágenes\n",
    "for indice, imagen in enumerate(imagenes):\n",
    "    nuevo_nombre = nuevo_formato.format(str(indice + 1).zfill(2))  # zfill(2) para rellenar con ceros a la izquierda\n",
    "    ruta_antigua = os.path.join(directorio, imagen)\n",
    "    ruta_nueva = os.path.join(directorio, nuevo_nombre)\n",
    "    os.rename(ruta_antigua, ruta_nueva)\n",
    "    print(f'Renombrado: {ruta_antigua} -> {ruta_nueva}')\n"
   ]
  },
  {
   "cell_type": "code",
   "execution_count": 1,
   "metadata": {},
   "outputs": [
    {
     "name": "stdout",
     "output_type": "stream",
     "text": [
      "Labelme no está instalado o no está en el PATH.\n"
     ]
    }
   ],
   "source": [
    "import subprocess\n",
    "\n",
    "# Ejecuta el comando labelme\n",
    "try:\n",
    "    subprocess.run(['labelme'], check=True)\n",
    "except subprocess.CalledProcessError as e:\n",
    "    print(f'Error al ejecutar labelme: {e}')\n",
    "except FileNotFoundError:\n",
    "    print('Labelme no está instalado o no está en el PATH.')"
   ]
  },
  {
   "cell_type": "code",
   "execution_count": 2,
   "metadata": {},
   "outputs": [
    {
     "name": "stdout",
     "output_type": "stream",
     "text": [
      "Renombrado: yolox\\03715c064edaf9da023a71066d73c914.png -> yolox\\23451_guido_lorenzettibruera_01.jpg\n",
      "Renombrado: yolox\\18088c42eaf06f8c7c36e186d5e97564.png -> yolox\\23451_guido_lorenzettibruera_02.jpg\n",
      "Renombrado: yolox\\1c630118fb965eb054fc9d752e8f8502.png -> yolox\\23451_guido_lorenzettibruera_03.jpg\n",
      "Renombrado: yolox\\21bd16ae1efe0dd408af02dbb585de78.png -> yolox\\23451_guido_lorenzettibruera_04.jpg\n",
      "Renombrado: yolox\\241cb54f48bfa6a5b43ab4779588bb03.png -> yolox\\23451_guido_lorenzettibruera_05.jpg\n",
      "Renombrado: yolox\\371e24387f4f867b2630e9b0ad00bba3.png -> yolox\\23451_guido_lorenzettibruera_06.jpg\n",
      "Renombrado: yolox\\3d6875a81d582e65fa985ecc09105f8d.png -> yolox\\23451_guido_lorenzettibruera_07.jpg\n",
      "Renombrado: yolox\\49577cfad8d56ae8711409283e967bcd.png -> yolox\\23451_guido_lorenzettibruera_08.jpg\n",
      "Renombrado: yolox\\4ca3bab31f53f8e1534d9b48d6b70c02.png -> yolox\\23451_guido_lorenzettibruera_09.jpg\n",
      "Renombrado: yolox\\4f8d76292023d203c9b25a139ab4ab34.png -> yolox\\23451_guido_lorenzettibruera_10.jpg\n",
      "Renombrado: yolox\\639a0a787df98589da61d904b713dff7.png -> yolox\\23451_guido_lorenzettibruera_11.jpg\n",
      "Renombrado: yolox\\67448e4eb46e666b69b0b882a6c91d00.png -> yolox\\23451_guido_lorenzettibruera_12.jpg\n",
      "Renombrado: yolox\\682d9cd5c3dd8690a82d496a9ba84486.png -> yolox\\23451_guido_lorenzettibruera_13.jpg\n",
      "Renombrado: yolox\\75e6f0417cc44d264ac08a399d209499.png -> yolox\\23451_guido_lorenzettibruera_14.jpg\n",
      "Renombrado: yolox\\7816289387f0f7e3f91127567ae14edd.png -> yolox\\23451_guido_lorenzettibruera_15.jpg\n",
      "Renombrado: yolox\\7c345a9549548fa477dc14bc7a4f1dee.png -> yolox\\23451_guido_lorenzettibruera_16.jpg\n",
      "Renombrado: yolox\\7fa1722a27fd02cd271202b9e84371c4.png -> yolox\\23451_guido_lorenzettibruera_17.jpg\n",
      "Renombrado: yolox\\8021006de35bfbae8b45fae28a7f8bb6.png -> yolox\\23451_guido_lorenzettibruera_18.jpg\n",
      "Renombrado: yolox\\82b9b55ebdc61a5c34e32c9382fee2de.png -> yolox\\23451_guido_lorenzettibruera_19.jpg\n",
      "Renombrado: yolox\\85a2c1d21c67a84bde2099453d6f05fe.png -> yolox\\23451_guido_lorenzettibruera_20.jpg\n",
      "Renombrado: yolox\\9585e25d2edceac0e867033908f2af74.png -> yolox\\23451_guido_lorenzettibruera_21.jpg\n",
      "Renombrado: yolox\\992b06470a780801084eb7c74e48ea6b.png -> yolox\\23451_guido_lorenzettibruera_22.jpg\n",
      "Renombrado: yolox\\c7dcdcdb1556d92d70ade69803e648b5.png -> yolox\\23451_guido_lorenzettibruera_23.jpg\n",
      "Renombrado: yolox\\ca02fd6fe19ae3476183579b31ac2c40.png -> yolox\\23451_guido_lorenzettibruera_24.jpg\n",
      "Renombrado: yolox\\cba4484881e077f7a95d4e9b77eb2db0.png -> yolox\\23451_guido_lorenzettibruera_25.jpg\n",
      "Renombrado: yolox\\dfef2ecd3e9b4c8f8dad800f5d2a06dd.png -> yolox\\23451_guido_lorenzettibruera_26.jpg\n",
      "Renombrado: yolox\\e1397993989bcf974cd85b6ac321ffbc.png -> yolox\\23451_guido_lorenzettibruera_27.jpg\n",
      "Renombrado: yolox\\f6efbc606f66b5e42b315113ee30b033.png -> yolox\\23451_guido_lorenzettibruera_28.jpg\n",
      "Renombrado: yolox\\ffa41f715c3e570baf118ab012a92485.png -> yolox\\23451_guido_lorenzettibruera_29.jpg\n",
      "Renombrado: yolox\\fff9ded599f435c3b2962b01aa3794bb.png -> yolox\\23451_guido_lorenzettibruera_30.jpg\n",
      "Renombrado: yolox\\03715c064edaf9da023a71066d73c914.txt -> yolox\\23451_guido_lorenzettibruera_01.txt\n",
      "Renombrado: yolox\\18088c42eaf06f8c7c36e186d5e97564.txt -> yolox\\23451_guido_lorenzettibruera_02.txt\n",
      "Renombrado: yolox\\1c630118fb965eb054fc9d752e8f8502.txt -> yolox\\23451_guido_lorenzettibruera_03.txt\n",
      "Renombrado: yolox\\21bd16ae1efe0dd408af02dbb585de78.txt -> yolox\\23451_guido_lorenzettibruera_04.txt\n",
      "Renombrado: yolox\\241cb54f48bfa6a5b43ab4779588bb03.txt -> yolox\\23451_guido_lorenzettibruera_05.txt\n",
      "Renombrado: yolox\\371e24387f4f867b2630e9b0ad00bba3.txt -> yolox\\23451_guido_lorenzettibruera_06.txt\n",
      "Renombrado: yolox\\3d6875a81d582e65fa985ecc09105f8d.txt -> yolox\\23451_guido_lorenzettibruera_07.txt\n",
      "Renombrado: yolox\\49577cfad8d56ae8711409283e967bcd.txt -> yolox\\23451_guido_lorenzettibruera_08.txt\n",
      "Renombrado: yolox\\4ca3bab31f53f8e1534d9b48d6b70c02.txt -> yolox\\23451_guido_lorenzettibruera_09.txt\n",
      "Renombrado: yolox\\4f8d76292023d203c9b25a139ab4ab34.txt -> yolox\\23451_guido_lorenzettibruera_10.txt\n",
      "Renombrado: yolox\\639a0a787df98589da61d904b713dff7.txt -> yolox\\23451_guido_lorenzettibruera_11.txt\n",
      "Renombrado: yolox\\67448e4eb46e666b69b0b882a6c91d00.txt -> yolox\\23451_guido_lorenzettibruera_12.txt\n",
      "Renombrado: yolox\\682d9cd5c3dd8690a82d496a9ba84486.txt -> yolox\\23451_guido_lorenzettibruera_13.txt\n",
      "Renombrado: yolox\\75e6f0417cc44d264ac08a399d209499.txt -> yolox\\23451_guido_lorenzettibruera_14.txt\n",
      "Renombrado: yolox\\7816289387f0f7e3f91127567ae14edd.txt -> yolox\\23451_guido_lorenzettibruera_15.txt\n",
      "Renombrado: yolox\\7c345a9549548fa477dc14bc7a4f1dee.txt -> yolox\\23451_guido_lorenzettibruera_16.txt\n",
      "Renombrado: yolox\\7fa1722a27fd02cd271202b9e84371c4.txt -> yolox\\23451_guido_lorenzettibruera_17.txt\n",
      "Renombrado: yolox\\8021006de35bfbae8b45fae28a7f8bb6.txt -> yolox\\23451_guido_lorenzettibruera_18.txt\n",
      "Renombrado: yolox\\82b9b55ebdc61a5c34e32c9382fee2de.txt -> yolox\\23451_guido_lorenzettibruera_19.txt\n",
      "Renombrado: yolox\\85a2c1d21c67a84bde2099453d6f05fe.txt -> yolox\\23451_guido_lorenzettibruera_20.txt\n",
      "Renombrado: yolox\\9585e25d2edceac0e867033908f2af74.txt -> yolox\\23451_guido_lorenzettibruera_21.txt\n",
      "Renombrado: yolox\\992b06470a780801084eb7c74e48ea6b.txt -> yolox\\23451_guido_lorenzettibruera_22.txt\n",
      "Renombrado: yolox\\c7dcdcdb1556d92d70ade69803e648b5.txt -> yolox\\23451_guido_lorenzettibruera_23.txt\n",
      "Renombrado: yolox\\ca02fd6fe19ae3476183579b31ac2c40.txt -> yolox\\23451_guido_lorenzettibruera_24.txt\n",
      "Renombrado: yolox\\cba4484881e077f7a95d4e9b77eb2db0.txt -> yolox\\23451_guido_lorenzettibruera_25.txt\n",
      "Renombrado: yolox\\dfef2ecd3e9b4c8f8dad800f5d2a06dd.txt -> yolox\\23451_guido_lorenzettibruera_26.txt\n",
      "Renombrado: yolox\\e1397993989bcf974cd85b6ac321ffbc.txt -> yolox\\23451_guido_lorenzettibruera_27.txt\n",
      "Renombrado: yolox\\f6efbc606f66b5e42b315113ee30b033.txt -> yolox\\23451_guido_lorenzettibruera_28.txt\n",
      "Renombrado: yolox\\ffa41f715c3e570baf118ab012a92485.txt -> yolox\\23451_guido_lorenzettibruera_29.txt\n",
      "Renombrado: yolox\\fff9ded599f435c3b2962b01aa3794bb.txt -> yolox\\23451_guido_lorenzettibruera_30.txt\n",
      "Renombrado completado.\n"
     ]
    }
   ],
   "source": [
    "import os\n",
    "\n",
    "# Define el directorio y el formato de los nuevos nombres\n",
    "directorio = 'yolox'\n",
    "nuevo_formato_imagen = '23451_guido_lorenzettibruera_{}.jpg'\n",
    "nuevo_formato_json = '23451_guido_lorenzettibruera_{}.txt'\n",
    "\n",
    "# Listar todos los archivos en el directorio\n",
    "archivos = os.listdir(directorio)\n",
    "\n",
    "# Filtrar los archivos por tipo\n",
    "imagenes = [archivo for archivo in archivos if archivo.endswith('.png')]\n",
    "jsons = [archivo for archivo in archivos if archivo.endswith('.txt')]\n",
    "\n",
    "# Ordenar las listas para asegurarse de que los archivos se renombren en el orden correcto\n",
    "imagenes.sort()\n",
    "jsons.sort()\n",
    "\n",
    "# Renombrar las imágenes\n",
    "for indice, imagen in enumerate(imagenes):\n",
    "    nuevo_nombre = nuevo_formato_imagen.format(str(indice + 1).zfill(2))  # zfill(2) para rellenar con ceros a la izquierda\n",
    "    ruta_antigua = os.path.join(directorio, imagen)\n",
    "    ruta_nueva = os.path.join(directorio, nuevo_nombre)\n",
    "    os.rename(ruta_antigua, ruta_nueva)\n",
    "    print(f'Renombrado: {ruta_antigua} -> {ruta_nueva}')\n",
    "\n",
    "# Renombrar los archivos JSON\n",
    "for indice, json in enumerate(jsons):\n",
    "    nuevo_nombre = nuevo_formato_json.format(str(indice + 1).zfill(2))  # zfill(2) para rellenar con ceros a la izquierda\n",
    "    ruta_antigua = os.path.join(directorio, json)\n",
    "    ruta_nueva = os.path.join(directorio, nuevo_nombre)\n",
    "    os.rename(ruta_antigua, ruta_nueva)\n",
    "    print(f'Renombrado: {ruta_antigua} -> {ruta_nueva}')\n",
    "\n",
    "print('Renombrado completado.')"
   ]
  },
  {
   "cell_type": "code",
   "execution_count": null,
   "metadata": {},
   "outputs": [],
   "source": []
  }
 ],
 "metadata": {
  "kernelspec": {
   "display_name": "Python 3",
   "language": "python",
   "name": "python3"
  },
  "language_info": {
   "codemirror_mode": {
    "name": "ipython",
    "version": 3
   },
   "file_extension": ".py",
   "mimetype": "text/x-python",
   "name": "python",
   "nbconvert_exporter": "python",
   "pygments_lexer": "ipython3",
   "version": "3.9.5"
  }
 },
 "nbformat": 4,
 "nbformat_minor": 2
}
